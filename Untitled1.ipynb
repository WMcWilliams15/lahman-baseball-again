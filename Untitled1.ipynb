{
 "cells": [
  {
   "cell_type": "code",
   "execution_count": 5,
   "metadata": {},
   "outputs": [
    {
     "data": {
      "text/plain": [
       "True"
      ]
     },
     "execution_count": 5,
     "metadata": {},
     "output_type": "execute_result"
    }
   ],
   "source": [
    "import os\n",
    "import pandas as pd\n",
    "from sqlalchemy import create_engine\n",
    "from dotenv import load_dotenv\n",
    "load_dotenv()"
   ]
  },
  {
   "cell_type": "code",
   "execution_count": 6,
   "metadata": {},
   "outputs": [
    {
     "data": {
      "text/plain": [
       "{'ALLUSERSPROFILE': 'C:\\\\ProgramData',\n",
       " 'APPDATA': 'C:\\\\Users\\\\wmcwi\\\\AppData\\\\Roaming',\n",
       " 'COMMONPROGRAMFILES': 'C:\\\\Program Files\\\\Common Files',\n",
       " 'COMMONPROGRAMFILES(X86)': 'C:\\\\Program Files (x86)\\\\Common Files',\n",
       " 'COMMONPROGRAMW6432': 'C:\\\\Program Files\\\\Common Files',\n",
       " 'COMPUTERNAME': 'THE-DREAD-PIRAT',\n",
       " 'COMSPEC': 'C:\\\\WINDOWS\\\\system32\\\\cmd.exe',\n",
       " 'CONDA_DEFAULT_ENV': 'sql-connection',\n",
       " 'CONDA_EXE': 'C:\\\\Users\\\\wmcwi\\\\Anaconda3\\\\Scripts\\\\conda.exe',\n",
       " 'CONDA_PROMPT_MODIFIER': '(sql-connection) ',\n",
       " 'CONDA_PYTHON_EXE': 'C:\\\\Users\\\\wmcwi\\\\Anaconda3\\\\python.exe',\n",
       " 'CONDA_ROOT': 'C:\\\\Users\\\\wmcwi\\\\Anaconda3',\n",
       " 'CONDA_SHLVL': '1',\n",
       " 'DRIVERDATA': 'C:\\\\Windows\\\\System32\\\\Drivers\\\\DriverData',\n",
       " 'FPS_BROWSER_APP_PROFILE_STRING': 'Internet Explorer',\n",
       " 'FPS_BROWSER_USER_PROFILE_STRING': 'Default',\n",
       " 'HOMEDRIVE': 'C:',\n",
       " 'HOMEPATH': '\\\\Users\\\\wmcwi',\n",
       " 'LOCALAPPDATA': 'C:\\\\Users\\\\wmcwi\\\\AppData\\\\Local',\n",
       " 'LOGONSERVER': '\\\\\\\\THE-DREAD-PIRAT',\n",
       " 'NUMBER_OF_PROCESSORS': '8',\n",
       " 'ONEDRIVE': 'C:\\\\Users\\\\wmcwi\\\\OneDrive',\n",
       " 'ONEDRIVECONSUMER': 'C:\\\\Users\\\\wmcwi\\\\OneDrive',\n",
       " 'OS': 'Windows_NT',\n",
       " 'PATH': 'C:\\\\Users\\\\wmcwi\\\\Anaconda3\\\\envs\\\\sql-connection;C:\\\\Users\\\\wmcwi\\\\Anaconda3\\\\envs\\\\sql-connection\\\\Library\\\\mingw-w64\\\\bin;C:\\\\Users\\\\wmcwi\\\\Anaconda3\\\\envs\\\\sql-connection\\\\Library\\\\usr\\\\bin;C:\\\\Users\\\\wmcwi\\\\Anaconda3\\\\envs\\\\sql-connection\\\\Library\\\\bin;C:\\\\Users\\\\wmcwi\\\\Anaconda3\\\\envs\\\\sql-connection\\\\Scripts;C:\\\\Users\\\\wmcwi\\\\Anaconda3\\\\envs\\\\sql-connection\\\\bin;C:\\\\Users\\\\wmcwi\\\\Anaconda3\\\\condabin;C:\\\\Users\\\\wmcwi\\\\Anaconda3;C:\\\\Users\\\\wmcwi\\\\Anaconda3\\\\Library\\\\mingw-w64\\\\bin;C:\\\\Users\\\\wmcwi\\\\Anaconda3\\\\Library\\\\usr\\\\bin;C:\\\\Users\\\\wmcwi\\\\Anaconda3\\\\Library\\\\bin;C:\\\\Users\\\\wmcwi\\\\Anaconda3\\\\Scripts;C:\\\\WINDOWS\\\\system32;C:\\\\WINDOWS;C:\\\\WINDOWS\\\\System32\\\\Wbem;C:\\\\WINDOWS\\\\System32\\\\WindowsPowerShell\\\\v1.0;C:\\\\WINDOWS\\\\System32\\\\OpenSSH;C:\\\\Program Files (x86)\\\\Intel\\\\Intel(R) Management Engine Components\\\\DAL;C:\\\\Program Files\\\\Intel\\\\Intel(R) Management Engine Components\\\\DAL;C:\\\\Program Files\\\\Git\\\\cmd;C:\\\\Users\\\\wmcwi\\\\AppData\\\\Local\\\\Programs\\\\Python\\\\Python37-32\\\\Scripts;C:\\\\Users\\\\wmcwi\\\\AppData\\\\Local\\\\Programs\\\\Python\\\\Python37-32;C:\\\\Users\\\\wmcwi\\\\AppData\\\\Local\\\\Microsoft\\\\WindowsApps;.',\n",
       " 'PATHEXT': '.COM;.EXE;.BAT;.CMD;.VBS;.VBE;.JS;.JSE;.WSF;.WSH;.MSC',\n",
       " 'PROCESSOR_ARCHITECTURE': 'AMD64',\n",
       " 'PROCESSOR_IDENTIFIER': 'Intel64 Family 6 Model 142 Stepping 10, GenuineIntel',\n",
       " 'PROCESSOR_LEVEL': '6',\n",
       " 'PROCESSOR_REVISION': '8e0a',\n",
       " 'PROGRAMDATA': 'C:\\\\ProgramData',\n",
       " 'PROGRAMFILES': 'C:\\\\Program Files',\n",
       " 'PROGRAMFILES(X86)': 'C:\\\\Program Files (x86)',\n",
       " 'PROGRAMW6432': 'C:\\\\Program Files',\n",
       " 'PROMPT': '(sql-connection) $P$G',\n",
       " 'PSMODULEPATH': 'C:\\\\Program Files\\\\WindowsPowerShell\\\\Modules;C:\\\\WINDOWS\\\\system32\\\\WindowsPowerShell\\\\v1.0\\\\Modules',\n",
       " 'PUBLIC': 'C:\\\\Users\\\\Public',\n",
       " 'SESSIONNAME': 'Console',\n",
       " 'SYSTEMDRIVE': 'C:',\n",
       " 'SYSTEMROOT': 'C:\\\\WINDOWS',\n",
       " 'TEMP': 'C:\\\\Users\\\\wmcwi\\\\AppData\\\\Local\\\\Temp',\n",
       " 'TMP': 'C:\\\\Users\\\\wmcwi\\\\AppData\\\\Local\\\\Temp',\n",
       " 'USERDOMAIN': 'THE-DREAD-PIRAT',\n",
       " 'USERDOMAIN_ROAMINGPROFILE': 'THE-DREAD-PIRAT',\n",
       " 'USERNAME': 'wmcwi',\n",
       " 'USERPROFILE': 'C:\\\\Users\\\\wmcwi',\n",
       " 'WINDIR': 'C:\\\\WINDOWS',\n",
       " 'CONDA_PREFIX': 'C:\\\\Users\\\\wmcwi\\\\Anaconda3\\\\envs\\\\sql-connection',\n",
       " 'KERNEL_LAUNCH_TIMEOUT': '40',\n",
       " 'JPY_INTERRUPT_EVENT': '1420',\n",
       " 'IPY_INTERRUPT_EVENT': '1420',\n",
       " 'JPY_PARENT_PID': '2844',\n",
       " 'TERM': 'xterm-color',\n",
       " 'CLICOLOR': '1',\n",
       " 'PAGER': 'cat',\n",
       " 'GIT_PAGER': 'cat',\n",
       " 'MPLBACKEND': 'module://ipykernel.pylab.backend_inline',\n",
       " 'POSTGRES_USERNAME': 'postgres',\n",
       " 'POSTGRES_PASSWORD': 'postgres'}"
      ]
     },
     "execution_count": 6,
     "metadata": {},
     "output_type": "execute_result"
    }
   ],
   "source": [
    "%env"
   ]
  },
  {
   "cell_type": "code",
   "execution_count": null,
   "metadata": {},
   "outputs": [],
   "source": []
  }
 ],
 "metadata": {
  "kernelspec": {
   "display_name": "Python 3",
   "language": "python",
   "name": "python3"
  },
  "language_info": {
   "codemirror_mode": {
    "name": "ipython",
    "version": 3
   },
   "file_extension": ".py",
   "mimetype": "text/x-python",
   "name": "python",
   "nbconvert_exporter": "python",
   "pygments_lexer": "ipython3",
   "version": "3.8.2"
  }
 },
 "nbformat": 4,
 "nbformat_minor": 4
}
